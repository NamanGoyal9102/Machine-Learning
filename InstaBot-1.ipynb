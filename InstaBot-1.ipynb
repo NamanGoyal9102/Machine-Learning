{
 "cells": [
  {
   "cell_type": "code",
   "execution_count": 1,
   "id": "09ac79f2",
   "metadata": {},
   "outputs": [
    {
     "name": "stderr",
     "output_type": "stream",
     "text": [
      "C:\\Users\\Naman\\AppData\\Local\\Temp\\ipykernel_48540\\2123620382.py:6: DeprecationWarning: executable_path has been deprecated, please pass in a Service object\n",
      "  driver=webdriver.Chrome(executable_path=\"UsersNaman\\Downloads\\chromedriver_win32\\chromedriver\")\n"
     ]
    },
    {
     "data": {
      "text/plain": [
       "<selenium.webdriver.chrome.webdriver.WebDriver (session=\"139b9273821dd12170bcdf825be4fc6e\")>"
      ]
     },
     "execution_count": 1,
     "metadata": {},
     "output_type": "execute_result"
    }
   ],
   "source": [
    "from selenium import webdriver\n",
    "from selenium.webdriver.chrome.service import Service\n",
    "from selenium.webdriver.common.by import By\n",
    "from selenium.webdriver.chrome.service import Service\n",
    "from selenium import webdriver\n",
    "driver=webdriver.Chrome(executable_path=\"UsersNaman\\Downloads\\chromedriver_win32\\chromedriver\")\n",
    "driver\n",
    "# CALLING THE WEBDRIVER USING SELENIUM LIBRARY AND PATH GIVEN TO IT FROM MY SYSTEM"
   ]
  },
  {
   "cell_type": "code",
   "execution_count": 2,
   "id": "dff38239",
   "metadata": {},
   "outputs": [],
   "source": [
    "driver.get(\"https://www.instagram.com/\")\n",
    "# OPENING THE INSTAGRAM ACCOUNT USING GET OF SELENIUM"
   ]
  },
  {
   "cell_type": "code",
   "execution_count": 3,
   "id": "0543035f",
   "metadata": {},
   "outputs": [],
   "source": [
    "text_box_1=driver.find_element(By.NAME,\"username\")   \n",
    "# FINDING THE NAME OF THE ELEMENT TO SEND KEYS USING NAME, USERNAME\n",
    "text_box_1.send_keys('USERNAME')\n",
    "# SENDING THE USERNAME USING SEND_KEYS\n",
    "text_box_2=driver.find_element(By.NAME,\"password\")\n",
    "# FINDING THE NAME OF THE ELEMENT TO SEND KEYS USING NAME, PASSWORD\n",
    "text_box_2.send_keys('PASSWORD')\n",
    "# SENDING THE PASSWORD USING SEND_KEYS\n",
    "submit_1=driver.find_element(By.TAG_NAME,\"button\")\n",
    "# FINDING THE LOG IN BUTTON BY TAG NAME\n",
    "submit_1.click()"
   ]
  },
  {
   "cell_type": "code",
   "execution_count": 4,
   "id": "9760ac83",
   "metadata": {},
   "outputs": [],
   "source": [
    "search=driver.find_element(By.XPATH,\"/html/body/div[2]/div/div/div/div[1]/div/div/div/div[1]/div[1]/div[1]/div/div/div/div/div[2]/div[2]/div/a\")\n",
    "search.click()\n",
    "# FINDING THE BUTTON TO GO TO SEARCH BAR USING XPATH AND CLICKING IT\n",
    "search_1=driver.find_element(By.XPATH,\"/html/body/div[2]/div/div/div/div[1]/div/div/div/div[1]/div[1]/div[1]/div/div/div[2]/div/div/div[2]/div[1]/div/input\")\n",
    "search_1.send_keys(\"food\")\n",
    "# Typing “food” in search bar and printing all the names of the Instagram Handles that are displayed in list after typing “food”\n",
    "# searching the name using XPATH"
   ]
  },
  {
   "cell_type": "code",
   "execution_count": 5,
   "id": "b57e0493",
   "metadata": {},
   "outputs": [
    {
     "name": "stdout",
     "output_type": "stream",
     "text": [
      "foodzeee\n",
      "foodtalkindia\n",
      "food_picked\n",
      "food__voyager\n",
      "dilsefoodie\n",
      "food_addii\n",
      "food\n",
      "foodfatafat\n",
      "food_fuel_vadodara\n",
      "foodie_incarnate\n",
      "food_lunatic\n",
      "foodism.xyz\n",
      "food_lover_journey\n",
      "foodforfoodies6\n",
      "food_food_surat\n",
      "foodentree\n",
      "kochin_food_blogger\n",
      "foodsandflavorsbyshilpi\n",
      "streetfoodstv\n",
      "foodiesfood_court\n",
      "the_food_mistress_\n",
      "justtt_food\n",
      "gurgaonfoodcircle\n",
      "foodie_mallu_kozhikode\n",
      "foodaholic_deepak\n",
      "foodie_rash_kozhikode\n",
      "foodish_punekar\n",
      "foodie_gujarati11\n",
      "food.darzee\n",
      "foodiesince96\n",
      "foodie_addicted_\n",
      "foodiesfab_india\n",
      "theindianfoodblogger\n",
      "foodfusionpk\n",
      "foodlinkcatering\n",
      "foodiesmumbaikar\n",
      "foodpandits\n",
      "oye.foodieee\n",
      "aaryascravings\n",
      "gurgaontimes.food\n",
      "foodvoodindia\n",
      "punefoodiesoul\n",
      "foodzaara\n",
      "food_rojana\n",
      "modern.cookery\n",
      "whatafoodiegirl\n",
      "meghnasfoodmagic\n",
      "albaik\n",
      "foodiesafarii\n",
      "paidaishi_foodie\n",
      "xplorerjaipur\n"
     ]
    }
   ],
   "source": [
    "from bs4 import BeautifulSoup\n",
    "html=driver.page_source\n",
    "data=BeautifulSoup(html,'html.parser')\n",
    "# print(data.prettify())\n",
    "d1=data.find_all(class_='_aacl _aaco _aacw _aacx _aad6')\n",
    "# print(d1)\n",
    "for i in d1:\n",
    "    if i.text[0]=='#':\n",
    "        continue\n",
    "    print(i.text)\n",
    "# PRINTING THE NAMES OF ALL THE ACCOUNTS COMING AFTER SEARCHING FOOD USING BEAUTIFULSOUP AND RETRIEVING DATA AND PRINTING FROM THEM\n"
   ]
  },
  {
   "cell_type": "code",
   "execution_count": 11,
   "id": "0b84cd40",
   "metadata": {},
   "outputs": [],
   "source": [
    "home=driver.find_element(By.XPATH,\"/html/body/div[2]/div/div/div/div[1]/div/div/div/div[1]/div[1]/div[1]/div/div/div/div/div[2]/div[1]/div/div/a\")\n",
    "home.click()\n",
    "# GOING BACK TO HOME SCREEN \n",
    "driver.implicitly_wait(3)"
   ]
  },
  {
   "cell_type": "code",
   "execution_count": 12,
   "id": "e9836125",
   "metadata": {},
   "outputs": [],
   "source": [
    "search=driver.find_element(By.XPATH,\"/html/body/div[2]/div/div/div/div[1]/div/div/div/div[1]/div[1]/div[1]/div/div/div/div/div[2]/div[2]/div/a\")\n",
    "search.click()\n",
    "# AGAIN OPENING THE SEARCH BAR\n",
    "driver.implicitly_wait(1)\n",
    "search_1=driver.find_element(By.XPATH,\"/html/body/div[2]/div/div/div/div[1]/div/div/div/div[1]/div[1]/div[1]/div/div/div[2]/div/div/div[2]/div[1]/div/input\")\n",
    "driver.implicitly_wait(3)\n",
    "# SELECTING THE SEARCH BAR TO PUT KEYS INTO IT USING send-keys()\n",
    "search_1.send_keys('So Delhi')\n",
    "driver.implicitly_wait(5)\n"
   ]
  },
  {
   "cell_type": "code",
   "execution_count": 13,
   "id": "0225e9bd",
   "metadata": {},
   "outputs": [],
   "source": [
    "so_delhi=driver.find_element(By.XPATH,\"/html/body/div[2]/div/div/div/div[1]/div/div/div/div[1]/div[1]/div[1]/div/div/div[2]/div/div/div[2]/div[2]/div/div[1]/div/a/div/div[2]/div[1]/div/div\")\n",
    "so_delhi.click()\n",
    "# CLICKING AND OPENING THE ACCOUNT OF SODELHI USING FIND_ELEMENT BY XPATH"
   ]
  },
  {
   "cell_type": "code",
   "execution_count": 15,
   "id": "5a6574eb",
   "metadata": {},
   "outputs": [
    {
     "name": "stdout",
     "output_type": "stream",
     "text": [
      "Already Following\n"
     ]
    }
   ],
   "source": [
    "so_delhi_follow=driver.find_element(By.TAG_NAME,\"button\")\n",
    "# SEEING IF THE NAME OF TAG IS FOLLOWING OR UNFOLLOWING\n",
    "if so_delhi_follow.text=='Following':\n",
    "    print(\"Already Following\")\n",
    "else:\n",
    "    so_delhi_follow.click()\n",
    "#following the instagram account. Print a message if you are already following"
   ]
  },
  {
   "cell_type": "code",
   "execution_count": 16,
   "id": "89cf5322",
   "metadata": {},
   "outputs": [],
   "source": [
    "so_delhi_follow.click()\n"
   ]
  },
  {
   "cell_type": "code",
   "execution_count": 17,
   "id": "3288857c",
   "metadata": {},
   "outputs": [],
   "source": [
    "so_delhi_unfollow=driver.find_element(By.XPATH,'/html/body/div[2]/div/div/div/div[2]/div/div/div[1]/div/div[2]/div/div/div/div/div[2]/div/div/div/div[7]/div/div/div/div/div/div')\n",
    "so_delhi_unfollow.click()\n",
    "# UNFOLLOWING THE INSTAGRAM ACCOUNT FOLLOWED PREVIOUSLY"
   ]
  },
  {
   "cell_type": "code",
   "execution_count": 18,
   "id": "1881569c",
   "metadata": {},
   "outputs": [],
   "source": [
    "home=driver.find_element(By.XPATH,\"/html/body/div[2]/div/div/div/div[1]/div/div/div/div[1]/div[1]/div[1]/div/div/div/div/div[2]/div[1]/div/div/a\")\n",
    "home.click()\n",
    "driver.implicitly_wait(3)\n",
    "# RETURNING TO HOME\n",
    "search=driver.find_element(By.XPATH,\"/html/body/div[2]/div/div/div/div[1]/div/div/div/div[1]/div[1]/div[1]/div/div/div/div/div[2]/div[2]/div/a\")\n",
    "search.click()\n",
    "driver.implicitly_wait(1)\n",
    "search_2=driver.find_element(By.XPATH,\"/html/body/div[2]/div/div/div/div[1]/div/div/div/div[1]/div[1]/div[1]/div/div/div[2]/div/div/div[2]/div[1]/div/input\")\n",
    "search_2.send_keys('dilsefoodie')\n",
    "# SEARCHING THE DILSEFOODIE IN SEARCH BAR \n",
    "\n",
    "\n",
    "\n"
   ]
  },
  {
   "cell_type": "code",
   "execution_count": 19,
   "id": "60a8d025",
   "metadata": {},
   "outputs": [],
   "source": [
    "dil_se_foodie=driver.find_element(By.XPATH,'/html/body/div[2]/div/div/div/div[1]/div/div/div/div[1]/div[1]/div[1]/div/div/div[2]/div/div/div[2]/div[2]/div/div[1]/div/a/div/div[2]/div[1]/div/div/div[1]')\n",
    "dil_se_foodie.click()\n",
    "# OPENING THE ACCOUNT OF DILSEFOODIE"
   ]
  },
  {
   "cell_type": "code",
   "execution_count": 25,
   "id": "b5a7732c",
   "metadata": {},
   "outputs": [],
   "source": [
    "driver.execute_script('window.scrollBy(0, 1000);')"
   ]
  },
  {
   "cell_type": "code",
   "execution_count": 26,
   "id": "c7204492",
   "metadata": {},
   "outputs": [],
   "source": [
    "posts=driver.find_elements(By.CLASS_NAME,\"_aagw\")\n",
    "# FINDING ALL THE ELEMENTS WHICH ARE POSTS\n",
    "# print(len(list(posts)))\n",
    "driver.execute_script('window.scrollBy(0, -600);')\n"
   ]
  },
  {
   "cell_type": "code",
   "execution_count": 27,
   "id": "b80aa92b",
   "metadata": {},
   "outputs": [],
   "source": [
    "from bs4 import BeautifulSoup\n",
    "# html=driver.page_source\n",
    "# data=BeautifulSoup(html,'html.parser')\n",
    "# d1=data.find_all('button')\n",
    "# print(d1[9])\n"
   ]
  },
  {
   "cell_type": "code",
   "execution_count": 40,
   "id": "91463f2d",
   "metadata": {},
   "outputs": [
    {
     "name": "stdout",
     "output_type": "stream",
     "text": [
      "Already Liked\n",
      "1\n",
      "Already Liked\n",
      "2\n",
      "Already Liked\n",
      "3\n",
      "Already Liked\n",
      "4\n",
      "Already Liked\n",
      "5\n",
      "Already Liked\n",
      "6\n",
      "Already Liked\n",
      "7\n",
      "Already Liked\n",
      "8\n",
      "Already Liked\n",
      "9\n",
      "Already Liked\n",
      "10\n"
     ]
    }
   ],
   "source": [
    "j=0\n",
    "k=0\n",
    "for i in posts[:30]:\n",
    "    i.click()\n",
    "    driver.implicitly_wait(8)\n",
    "    html=driver.page_source\n",
    "    data=BeautifulSoup(html,'html.parser')\n",
    "    d1=data.find_all('button')\n",
    "    if j==0:\n",
    "        l=8\n",
    "    else:\n",
    "        l=9\n",
    "    driver.implicitly_wait(10)\n",
    "    if d1[l].svg['aria-label']=='Unlike':\n",
    "            print('Already Liked')\n",
    "    else:\n",
    "        post_like=driver.find_element(By.XPATH,\"/html/body/div[2]/div/div/div/div[2]/div/div/div[1]/div/div[3]/div/div/div/div/div[2]/div/article/div/div[2]/div/div/div[2]/section[1]/span[1]/button\")\n",
    "        post_like.click()\n",
    "    driver.back()\n",
    "    driver.implicitly_wait(3)\n",
    "    driver.execute_script('window.scrollBy(0, 350);')\n",
    "    j+=1\n",
    "    driver.implicitly_wait(5)\n",
    "#     Liking the top 30 posts of the ‘dilsefoodie'. Print message if you have already liked it.\n",
    "# we are doing this using beautifulsoup to find all the buttons on the post to find if it is liked or not and then liking it jusing \n",
    "# xpath and then scrolling the window so that more posts are encountered"
   ]
  },
  {
   "cell_type": "code",
   "execution_count": 38,
   "id": "1f6de669",
   "metadata": {},
   "outputs": [
    {
     "name": "stdout",
     "output_type": "stream",
     "text": [
      "33\n",
      "Already Unliked\n",
      "Already Unliked\n",
      "Already Unliked\n",
      "Already Unliked\n",
      "Already Unliked\n",
      "Already Unliked\n",
      "Already Unliked\n",
      "Already Unliked\n",
      "Already Unliked\n",
      "Already Unliked\n"
     ]
    }
   ],
   "source": [
    "driver.execute_script('window.scrollBy(0, 1000);')\n",
    "driver.implicitly_wait(10)\n",
    "posts=driver.find_elements(By.CLASS_NAME,\"_aagw\")\n",
    "# print(len(post_like))\n",
    "# print(post_like)\n",
    "print(len(list(posts)))\n",
    "driver.execute_script('window.scrollBy(0, -600);')\n",
    "driver.implicitly_wait(5)\n",
    "j=0\n",
    "k=0\n",
    "for i in posts[:30]:\n",
    "    i.click()\n",
    "    driver.implicitly_wait(8)\n",
    "    html=driver.page_source\n",
    "    data=BeautifulSoup(html,'html.parser')\n",
    "    d1=data.find_all('button')\n",
    "    if j==0:\n",
    "        l=8\n",
    "    else:\n",
    "        l=9\n",
    "    if d1[l].svg['aria-label']=='Like':\n",
    "            print('Already Unliked')\n",
    "    else:\n",
    "        post_like=driver.find_element(By.XPATH,\"/html/body/div[2]/div/div/div/div[2]/div/div/div[1]/div/div[3]/div/div/div/div/div[2]/div/article/div/div[2]/div/div/div[2]/section[1]/span[1]/button\")\n",
    "        post_like.click()\n",
    "    driver.back()\n",
    "    driver.implicitly_wait(3)\n",
    "    driver.execute_script('window.scrollBy(0, 150);')\n",
    "    j+=1\n",
    "    driver.implicitly_wait(5)\n",
    "    \n",
    "#     UnLiking the top 30 posts of the ‘dilsefoodie'. Print message if you have already liked it.\n",
    "# we are doing this using beautifulsoup to find all the buttons on the post to find if it is unliked or not and then liking it jusing \n",
    "# xpath and then scrolling the window so that more posts are encountered\n"
   ]
  },
  {
   "cell_type": "code",
   "execution_count": 42,
   "id": "227b18ad",
   "metadata": {},
   "outputs": [],
   "source": [
    "driver.back()"
   ]
  },
  {
   "cell_type": "code",
   "execution_count": 43,
   "id": "d1230fc8",
   "metadata": {},
   "outputs": [],
   "source": [
    "search=driver.find_element(By.XPATH,\"/html/body/div[2]/div/div/div/div[1]/div/div/div/div[1]/div[1]/div[1]/div/div/div/div/div[2]/div[2]/div/a\")\n",
    "search.click()\n",
    "search_box=driver.find_element(By.TAG_NAME,\"input\")\n",
    "search_box.send_keys('foodtalkindia')\n",
    "# SEARCHING THE HANDLE OF FOODTALKINDIA"
   ]
  },
  {
   "cell_type": "code",
   "execution_count": 45,
   "id": "607a917e",
   "metadata": {},
   "outputs": [],
   "source": [
    "food_talk_india=driver.find_element(By.XPATH,\"/html/body/div[2]/div/div/div/div[1]/div/div/div/div[1]/div[1]/div[1]/div/div/div[2]/div/div/div[2]/div[2]/div/div[1]/div/a/div\")\n",
    "food_talk_india.click()"
   ]
  },
  {
   "cell_type": "code",
   "execution_count": 46,
   "id": "e03c061d",
   "metadata": {},
   "outputs": [],
   "source": [
    "followers=driver.find_element(By.XPATH,\"/html/body/div[2]/div/div/div/div[1]/div/div/div/div[1]/div[1]/div[2]/section/main/div/header/section/ul/li[2]/a/div\")\n",
    "followers.click()\n",
    "# CLICKING ON THE FOLLOWERS OF FOODTALKINDIA TO GET THE FOLLOWERS LIST"
   ]
  },
  {
   "cell_type": "code",
   "execution_count": 47,
   "id": "cd97006e",
   "metadata": {},
   "outputs": [
    {
     "name": "stdout",
     "output_type": "stream",
     "text": [
      "__guizinxl.r210\n",
      "zat3on\n",
      "dabhijeet97\n",
      "artis_yakhni_pulao\n",
      "yomadic.px\n",
      "avishmahajan\n",
      "chickees_chick\n",
      "datarandsons\n",
      "dili_timofei\n",
      "dimple_vaswani\n",
      "ekextraplate\n",
      "mazem79\n",
      "godaam_restaurant_bar\n",
      "just_google_things\n",
      "kajal_chaudhary_0077\n",
      "morasiya586\n",
      "lai.bhari_recipes\n",
      "chef_alexandre_kerbouz\n",
      "lovey.ld\n",
      "nandinikanoria\n",
      "nehal_shahukar\n",
      "nikitagulwani\n",
      "nsharma_241984\n",
      "biswaspallavi\n",
      "pandaboo575\n",
      "paveen_01\n",
      "rachitmahana\n",
      "ruchika1122\n",
      "cookwithsa\n",
      "safarnama0.2\n",
      "salonibansal2305\n",
      "khanspiracy_theory\n",
      "sbollen_\n",
      "shubham__sr4\n",
      "lukku__royal\n",
      "travelwithsud\n",
      "makeup_by_sudha_baroi\n",
      "supriya1986\n",
      "thecheesecakeandmore\n",
      "ujwala02_misal\n",
      "umang.kohli.94\n",
      "unknown_the__dictator\n",
      "oovi.p\n",
      "us___888___\n",
      "orophile_iam\n",
      "yummizo\n",
      "zindagi_e_mushaira\n",
      "ll__danish__ll_302\n",
      "haru.mo8\n",
      "f_a_r_d_i_n__s_e_l_a_n_i\n"
     ]
    }
   ],
   "source": [
    "html=driver.page_source\n",
    "data=BeautifulSoup(html,'html.parser')\n",
    "# print(data.prettify())\n",
    "d1=data.find_all(class_='_ab8y _ab94 _ab97 _ab9f _ab9k _ab9p _abcm')\n",
    "# print(d1)\n",
    "for i in d1[:500]:\n",
    "    print(i.text)\n",
    "    driver.execute_script('window.scrollBy(0, 150);')\n",
    "    \n",
    "# THE INSTAGRAM HAVE CHANGED THEIR INTERFACE AND ONLY \"foodtalkindia\" can SEE ALL OF IT'S FOLLOWERS AND OTHER THAN THAT ALL THE FOLLOWERS\n",
    "# WHICH WERE VISIBLE ARE PRINTED."
   ]
  },
  {
   "cell_type": "code",
   "execution_count": 48,
   "id": "2c0e0bfa",
   "metadata": {},
   "outputs": [],
   "source": [
    "driver.back()\n",
    "driver.back()"
   ]
  },
  {
   "cell_type": "code",
   "execution_count": 49,
   "id": "811fd4da",
   "metadata": {},
   "outputs": [],
   "source": [
    "search=driver.find_element(By.XPATH,\"/html/body/div[2]/div/div/div/div[1]/div/div/div/div[1]/div[1]/div[1]/div/div/div/div/div[2]/div[2]/div/a\")\n",
    "search.click()\n",
    "search_box=driver.find_element(By.TAG_NAME,\"input\")\n",
    "search_box.send_keys('sodelhi')\n"
   ]
  },
  {
   "cell_type": "code",
   "execution_count": 51,
   "id": "e987ad70",
   "metadata": {},
   "outputs": [],
   "source": [
    "dil_se_foodie=driver.find_element(By.XPATH,\"/html/body/div[2]/div/div/div/div[1]/div/div/div/div[1]/div[1]/div[1]/div/div/div[2]/div/div/div[2]/div[2]/div/div[1]/div/a/div\")\n",
    "dil_se_foodie.click()"
   ]
  },
  {
   "cell_type": "code",
   "execution_count": 52,
   "id": "b938d8c6",
   "metadata": {},
   "outputs": [],
   "source": [
    "followers=driver.find_element(By.XPATH,\"/html/body/div[2]/div/div/div/div[1]/div/div/div/div[1]/div[1]/div[2]/section/main/div/header/section/ul/li[2]/a/div\")\n",
    "followers.click()\n",
    "# EXTRACTING THE FOLLOWERS LIST OF SODELHI USING THE PAGE_SOURCE WHICH IS CONVERTED TO ANALYSABLE DATA USING HTML PARSER AND BEAUTIFULSOUP"
   ]
  },
  {
   "cell_type": "code",
   "execution_count": 53,
   "id": "fe1f2abd",
   "metadata": {},
   "outputs": [
    {
     "name": "stdout",
     "output_type": "stream",
     "text": [
      "priyasolanki985\n",
      "unknow_user3421\n",
      "zeesh_an8866\n",
      "rohitgill5222\n",
      "missmantree\n",
      "sshivasingh_\n",
      "adhigowda3\n",
      "adv_veerpal_kamboj_\n",
      "akashdeepchhonker2019\n",
      "anilbhaudevkule\n"
     ]
    }
   ],
   "source": [
    "html=driver.page_source\n",
    "data=BeautifulSoup(html,'html.parser')\n",
    "d1=data.find_all(class_='_ab8y _ab94 _ab97 _ab9f _ab9k _ab9p _abcm')\n",
    "for i in d1[:500]:\n",
    "    print(i.text)\n",
    "    driver.execute_script('window.scrollBy(0, 150);')\n",
    "    "
   ]
  },
  {
   "cell_type": "code",
   "execution_count": 54,
   "id": "19a31977",
   "metadata": {},
   "outputs": [],
   "source": [
    "driver.back()\n",
    "driver.back()"
   ]
  },
  {
   "cell_type": "code",
   "execution_count": 60,
   "id": "abf7ea0e",
   "metadata": {},
   "outputs": [],
   "source": [
    "search=driver.find_element(By.XPATH,\"/html/body/div[2]/div/div/div/div[1]/div/div/div/div[1]/div[1]/div[1]/div/div/div/div/div[2]/div[2]/div/a\")\n",
    "search.click()\n",
    "search_box=driver.find_element(By.TAG_NAME,\"input\")\n",
    "search_box.send_keys('foodtalkindia')"
   ]
  },
  {
   "cell_type": "code",
   "execution_count": 61,
   "id": "85d8d5c8",
   "metadata": {},
   "outputs": [],
   "source": [
    "food_talk_india=driver.find_element(By.XPATH,\"/html/body/div[2]/div/div/div/div[1]/div/div/div/div[1]/div[1]/div[1]/div/div/div[2]/div/div/div[2]/div[2]/div/div[1]/div/a/div\")\n",
    "driver.implicitly_wait(5)\n",
    "food_talk_india.click()\n",
    "# EXTRACTING THE FOLLOWERS LIST OF FOODTALKINDIA USING THE PAGE_SOURCE WHICH IS CONVERTED TO ANALYSABLE DATA USING HTML PARSER AND BEAUTIFULSOUP# "
   ]
  },
  {
   "cell_type": "code",
   "execution_count": 62,
   "id": "53cd2edf",
   "metadata": {},
   "outputs": [],
   "source": [
    "followers=driver.find_element(By.XPATH,\"/html/body/div[2]/div/div/div/div[1]/div/div/div/div[1]/div[1]/div[2]/section/main/div/header/section/ul/li[2]/a/div\")\n",
    "followers.click()"
   ]
  },
  {
   "cell_type": "code",
   "execution_count": 63,
   "id": "f73e6ccb",
   "metadata": {},
   "outputs": [],
   "source": [
    "html=driver.page_source\n",
    "data=BeautifulSoup(html,'html.parser')\n",
    "# print(data.prettify())\n",
    "d1=data.find_all('button')\n",
    "d2=data.find_all(class_='_ab8y _ab94 _ab97 _ab9f _ab9k _ab9p _abcm')\n",
    "# print(d1)\n",
    "# print(d2)\n",
    "j=0\n",
    "for i in range(4,len(d1)):\n",
    "    if d1[i].text=='Following':\n",
    "        print(d2[j].text)\n",
    "    j+=1        \n",
    "    \n",
    "# NONE OF THE USERS ARE FOLLOWING BE BACK BUT IF THEY WERE I WOULD HAVE PUT ALL THE PEOPLE WHO I AM FOLLOWING IN A LIST AND THEN COMPARE\n",
    "# THEM ONE BY ONE WITH THE LIST OF MY FOLLOWERS AND PRINTED THE NAMES OF THEM"
   ]
  },
  {
   "cell_type": "code",
   "execution_count": 64,
   "id": "5829fc3a",
   "metadata": {},
   "outputs": [],
   "source": [
    "driver.back()\n",
    "driver.back()"
   ]
  },
  {
   "cell_type": "code",
   "execution_count": 65,
   "id": "9e1e8926",
   "metadata": {},
   "outputs": [],
   "source": [
    "search=driver.find_element(By.XPATH,\"/html/body/div[2]/div/div/div/div[1]/div/div/div/div[1]/div[1]/div[1]/div/div/div/div/div[2]/div[2]/div/a\")\n",
    "search.click()\n",
    "search_box=driver.find_element(By.TAG_NAME,\"input\")\n",
    "search_box.send_keys('coding ninjas')\n",
    "# Check the story of ‘coding.ninjas’."
   ]
  },
  {
   "cell_type": "code",
   "execution_count": 66,
   "id": "b115113d",
   "metadata": {},
   "outputs": [],
   "source": [
    "coding_ninjas=driver.find_element(By.XPATH,\"/html/body/div[2]/div/div/div/div[1]/div/div/div/div[1]/div[1]/div[1]/div/div/div[2]/div/div/div[2]/div[2]/div/div[1]/div/a/div\")\n",
    "coding_ninjas.click()\n",
    "# Check the story of ‘coding.ninjas’. CLICKING ON THE STORY ICON OF CODING NINJAS USING XPATH"
   ]
  },
  {
   "cell_type": "code",
   "execution_count": 67,
   "id": "da67ce36",
   "metadata": {},
   "outputs": [
    {
     "name": "stdout",
     "output_type": "stream",
     "text": [
      "The User has a Story\n"
     ]
    }
   ],
   "source": [
    "html=driver.page_source\n",
    "data=BeautifulSoup(html,'html.parser')\n",
    "# print(data.prettify())\n",
    "d1=data.find(class_='x2lah0s x78zum5 xdt5ytf xl56j7k x1n2onr6 x16fuon9 x5bv2cf x9ozhqo xbn8dsz x184cenk')\n",
    "if len(d1.div['class'])==1:\n",
    "    print('The User has no Story')\n",
    "else:\n",
    "    print('The User has a Story')\n",
    "\n",
    "# Consider the following Scenarios and print error messages accordingly -\n",
    "# If You have already seen the story.\n",
    "# Or The user has no story.\n",
    "# Or View the story if not yet seen.\n",
    "# FACED DIFFICULTY IN THIS TASK WILL TRY TO CORRECT THE MISTAKE, SUBMITTED WITHIN DEADLINE"
   ]
  },
  {
   "cell_type": "code",
   "execution_count": 68,
   "id": "247cc548",
   "metadata": {},
   "outputs": [],
   "source": [
    "see_story=driver.find_element(By.XPATH,\"/html/body/div[2]/div/div/div/div[1]/div/div/div/div[1]/div[1]/div[2]/section/main/div/header/div/div\")\n",
    "see_story.click()"
   ]
  },
  {
   "cell_type": "code",
   "execution_count": null,
   "id": "631f57ab",
   "metadata": {},
   "outputs": [],
   "source": []
  }
 ],
 "metadata": {
  "kernelspec": {
   "display_name": "Python 3 (ipykernel)",
   "language": "python",
   "name": "python3"
  },
  "language_info": {
   "codemirror_mode": {
    "name": "ipython",
    "version": 3
   },
   "file_extension": ".py",
   "mimetype": "text/x-python",
   "name": "python",
   "nbconvert_exporter": "python",
   "pygments_lexer": "ipython3",
   "version": "3.9.12"
  }
 },
 "nbformat": 4,
 "nbformat_minor": 5
}
